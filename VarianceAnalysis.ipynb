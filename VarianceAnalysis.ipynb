{
  "nbformat": 4,
  "nbformat_minor": 0,
  "metadata": {
    "colab": {
      "name": "VarianceAnalysis.ipynb",
      "provenance": [],
      "collapsed_sections": [],
      "authorship_tag": "ABX9TyO9S6TEjDBvY5Q6cOYwPhqt"
    },
    "kernelspec": {
      "display_name": "Python 3",
      "name": "python3"
    },
    "language_info": {
      "name": "python"
    }
  },
  "cells": [
    {
      "cell_type": "markdown",
      "metadata": {
        "id": "gM-SN0GlBqLl"
      },
      "source": [
        "### Excel Variance Report Generator\n",
        "Creates a downloadable summary report of outlet variances in excel format.\n",
        "1. Export variance report in csv file\n",
        "2. Drag to Files\n",
        "3. Click Generate Report\n",
        "4. Report will auto download"
      ]
    },
    {
      "cell_type": "code",
      "metadata": {
        "id": "X9qpuWRrBV7E",
        "cellView": "form"
      },
      "source": [
        "#@title \n",
        "#@markdown ### Generate Report\n",
        "try:\n",
        "    import glob\n",
        "    import pandas as pd\n",
        "    import xlsxwriter\n",
        "    from google.colab import files\n",
        "except:\n",
        "    !pip install xlsxwriter\n",
        "\n",
        "def var_analysis():\n",
        "    file = glob.glob('*.csv')\n",
        "    df = pd.read_csv(file[0],encoding='latin-1')\n",
        "    sheet_name = df['Unnamed: 3'][3]\n",
        "    date = df['Outlet Variance'][0]\n",
        "    cut_off_row = df.loc[df['Outlet Variance']=='Account'].index.tolist()\n",
        "    df.drop(columns=['Outlet Variance','Unnamed: 8','Unnamed: 9'], index =[0,1], inplace=True)\n",
        "    df.columns = ['Item Num', 'Unit', 'Desc','BeginInv','Purch','Req','Adj','OnHand','Count','Var']\n",
        "    df.drop([2,3], inplace=True)\n",
        "    df = df.iloc[:cut_off_row[0]]\n",
        "    new_var = df['Var'].dropna().tolist()\n",
        "    new_variance = new_var[1::2]\n",
        "    df = df.dropna()\n",
        "    df['Amt'] = new_variance[:-1]\n",
        "    df.set_index('Item Num')\n",
        "    writer = pd.ExcelWriter(sheet_name + '.xlsx',\n",
        "                             engine='xlsxwriter',\n",
        "                             options={'strings_to_numbers': True})\n",
        "    df.to_excel(writer,sheet_name=sheet_name,index=False)\n",
        "    workbook  = writer.book\n",
        "    worksheet = writer.sheets[sheet_name]\n",
        "    worksheet.set_column('B:B', df['Unit'].str.len().max())\n",
        "    worksheet.set_column('C:C', df['Desc'].str.len().max())\n",
        "    worksheet.set_column('K:K',12)\n",
        "    formula = str('=SUM(K1:K' + str(len(df)+1)+ \")\" )\n",
        "    bold = workbook.add_format({'bold': True})\n",
        "    worksheet.write('J'+ str( int(float((len(df))+3)) ) , 'Total Var',bold) \n",
        "    print('Downloading Outlet Variance for:' + '\\n\\n' + sheet_name + '\\n')\n",
        "    print('For variance total: \\n\\nPaste this on cell ' + 'K'+ str( int(float((len(df))+3)) ) + ' --->  '+ formula)\n",
        "    worksheet.set_paper(1)\n",
        "    worksheet.repeat_rows(0) \n",
        "    worksheet.set_header(\"Outlet Variance\\n\" + sheet_name + \"\\n\" + date)\n",
        "    worksheet.set_footer('&L Generated on :&D &T &R &P of &N')\n",
        "    worksheet.fit_to_pages(1, 0)\n",
        "    worksheet.set_landscape() \n",
        "    writer.save()\n",
        "    files.download(sheet_name + '.xlsx')\n",
        "\n",
        "var_analysis()    \n",
        "    "
      ],
      "execution_count": null,
      "outputs": []
    }
  ]
}